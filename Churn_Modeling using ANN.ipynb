{
  "nbformat": 4,
  "nbformat_minor": 0,
  "metadata": {
    "colab": {
      "name": "Artificial Neural Network(ANN).ipynb",
      "provenance": [],
      "authorship_tag": "ABX9TyOnnzrf+pxjO5vr46pmMMK8",
      "include_colab_link": true
    },
    "kernelspec": {
      "name": "python3",
      "display_name": "Python 3"
    },
    "language_info": {
      "name": "python"
    }
  },
  "cells": [
    {
      "cell_type": "markdown",
      "metadata": {
        "id": "view-in-github",
        "colab_type": "text"
      },
      "source": [
        "<a href=\"https://colab.research.google.com/github/IrfanPavel/Churn_Modeling/blob/main/Churn_Modeling%20using%20ANN.ipynb\" target=\"_parent\"><img src=\"https://colab.research.google.com/assets/colab-badge.svg\" alt=\"Open In Colab\"/></a>"
      ]
    },
    {
      "cell_type": "code",
      "metadata": {
        "id": "XO-dOcD4K3wu"
      },
      "source": [
        "import numpy as np\n",
        "import pandas as pd\n",
        "import tensorflow as tf"
      ],
      "execution_count": 2,
      "outputs": []
    },
    {
      "cell_type": "code",
      "metadata": {
        "colab": {
          "base_uri": "https://localhost:8080/",
          "height": 35
        },
        "id": "nV3BumPWLoIl",
        "outputId": "f9fa15d7-c603-473a-f41a-4331793ca6c1"
      },
      "source": [
        "tf.__version__"
      ],
      "execution_count": 3,
      "outputs": [
        {
          "output_type": "execute_result",
          "data": {
            "application/vnd.google.colaboratory.intrinsic+json": {
              "type": "string"
            },
            "text/plain": [
              "'2.7.0'"
            ]
          },
          "metadata": {},
          "execution_count": 3
        }
      ]
    },
    {
      "cell_type": "code",
      "metadata": {
        "id": "bb_lH9MgLePm"
      },
      "source": [
        "dataset=pd.read_csv(\"/content/Churn_Modelling.csv\")"
      ],
      "execution_count": 5,
      "outputs": []
    },
    {
      "cell_type": "code",
      "metadata": {
        "colab": {
          "base_uri": "https://localhost:8080/",
          "height": 443
        },
        "id": "8nL8UJhFL4Op",
        "outputId": "6ac870eb-d991-498b-b148-27822ed2a2c8"
      },
      "source": [
        "dataset"
      ],
      "execution_count": 10,
      "outputs": [
        {
          "output_type": "execute_result",
          "data": {
            "text/html": [
              "<div>\n",
              "<style scoped>\n",
              "    .dataframe tbody tr th:only-of-type {\n",
              "        vertical-align: middle;\n",
              "    }\n",
              "\n",
              "    .dataframe tbody tr th {\n",
              "        vertical-align: top;\n",
              "    }\n",
              "\n",
              "    .dataframe thead th {\n",
              "        text-align: right;\n",
              "    }\n",
              "</style>\n",
              "<table border=\"1\" class=\"dataframe\">\n",
              "  <thead>\n",
              "    <tr style=\"text-align: right;\">\n",
              "      <th></th>\n",
              "      <th>RowNumber</th>\n",
              "      <th>CustomerId</th>\n",
              "      <th>Surname</th>\n",
              "      <th>CreditScore</th>\n",
              "      <th>Geography</th>\n",
              "      <th>Gender</th>\n",
              "      <th>Age</th>\n",
              "      <th>Tenure</th>\n",
              "      <th>Balance</th>\n",
              "      <th>NumOfProducts</th>\n",
              "      <th>HasCrCard</th>\n",
              "      <th>IsActiveMember</th>\n",
              "      <th>EstimatedSalary</th>\n",
              "      <th>Exited</th>\n",
              "    </tr>\n",
              "  </thead>\n",
              "  <tbody>\n",
              "    <tr>\n",
              "      <th>0</th>\n",
              "      <td>1</td>\n",
              "      <td>15634602</td>\n",
              "      <td>Hargrave</td>\n",
              "      <td>619</td>\n",
              "      <td>France</td>\n",
              "      <td>Female</td>\n",
              "      <td>42</td>\n",
              "      <td>2</td>\n",
              "      <td>0.00</td>\n",
              "      <td>1</td>\n",
              "      <td>1</td>\n",
              "      <td>1</td>\n",
              "      <td>101348.88</td>\n",
              "      <td>1</td>\n",
              "    </tr>\n",
              "    <tr>\n",
              "      <th>1</th>\n",
              "      <td>2</td>\n",
              "      <td>15647311</td>\n",
              "      <td>Hill</td>\n",
              "      <td>608</td>\n",
              "      <td>Spain</td>\n",
              "      <td>Female</td>\n",
              "      <td>41</td>\n",
              "      <td>1</td>\n",
              "      <td>83807.86</td>\n",
              "      <td>1</td>\n",
              "      <td>0</td>\n",
              "      <td>1</td>\n",
              "      <td>112542.58</td>\n",
              "      <td>0</td>\n",
              "    </tr>\n",
              "    <tr>\n",
              "      <th>2</th>\n",
              "      <td>3</td>\n",
              "      <td>15619304</td>\n",
              "      <td>Onio</td>\n",
              "      <td>502</td>\n",
              "      <td>France</td>\n",
              "      <td>Female</td>\n",
              "      <td>42</td>\n",
              "      <td>8</td>\n",
              "      <td>159660.80</td>\n",
              "      <td>3</td>\n",
              "      <td>1</td>\n",
              "      <td>0</td>\n",
              "      <td>113931.57</td>\n",
              "      <td>1</td>\n",
              "    </tr>\n",
              "    <tr>\n",
              "      <th>3</th>\n",
              "      <td>4</td>\n",
              "      <td>15701354</td>\n",
              "      <td>Boni</td>\n",
              "      <td>699</td>\n",
              "      <td>France</td>\n",
              "      <td>Female</td>\n",
              "      <td>39</td>\n",
              "      <td>1</td>\n",
              "      <td>0.00</td>\n",
              "      <td>2</td>\n",
              "      <td>0</td>\n",
              "      <td>0</td>\n",
              "      <td>93826.63</td>\n",
              "      <td>0</td>\n",
              "    </tr>\n",
              "    <tr>\n",
              "      <th>4</th>\n",
              "      <td>5</td>\n",
              "      <td>15737888</td>\n",
              "      <td>Mitchell</td>\n",
              "      <td>850</td>\n",
              "      <td>Spain</td>\n",
              "      <td>Female</td>\n",
              "      <td>43</td>\n",
              "      <td>2</td>\n",
              "      <td>125510.82</td>\n",
              "      <td>1</td>\n",
              "      <td>1</td>\n",
              "      <td>1</td>\n",
              "      <td>79084.10</td>\n",
              "      <td>0</td>\n",
              "    </tr>\n",
              "    <tr>\n",
              "      <th>...</th>\n",
              "      <td>...</td>\n",
              "      <td>...</td>\n",
              "      <td>...</td>\n",
              "      <td>...</td>\n",
              "      <td>...</td>\n",
              "      <td>...</td>\n",
              "      <td>...</td>\n",
              "      <td>...</td>\n",
              "      <td>...</td>\n",
              "      <td>...</td>\n",
              "      <td>...</td>\n",
              "      <td>...</td>\n",
              "      <td>...</td>\n",
              "      <td>...</td>\n",
              "    </tr>\n",
              "    <tr>\n",
              "      <th>9995</th>\n",
              "      <td>9996</td>\n",
              "      <td>15606229</td>\n",
              "      <td>Obijiaku</td>\n",
              "      <td>771</td>\n",
              "      <td>France</td>\n",
              "      <td>Male</td>\n",
              "      <td>39</td>\n",
              "      <td>5</td>\n",
              "      <td>0.00</td>\n",
              "      <td>2</td>\n",
              "      <td>1</td>\n",
              "      <td>0</td>\n",
              "      <td>96270.64</td>\n",
              "      <td>0</td>\n",
              "    </tr>\n",
              "    <tr>\n",
              "      <th>9996</th>\n",
              "      <td>9997</td>\n",
              "      <td>15569892</td>\n",
              "      <td>Johnstone</td>\n",
              "      <td>516</td>\n",
              "      <td>France</td>\n",
              "      <td>Male</td>\n",
              "      <td>35</td>\n",
              "      <td>10</td>\n",
              "      <td>57369.61</td>\n",
              "      <td>1</td>\n",
              "      <td>1</td>\n",
              "      <td>1</td>\n",
              "      <td>101699.77</td>\n",
              "      <td>0</td>\n",
              "    </tr>\n",
              "    <tr>\n",
              "      <th>9997</th>\n",
              "      <td>9998</td>\n",
              "      <td>15584532</td>\n",
              "      <td>Liu</td>\n",
              "      <td>709</td>\n",
              "      <td>France</td>\n",
              "      <td>Female</td>\n",
              "      <td>36</td>\n",
              "      <td>7</td>\n",
              "      <td>0.00</td>\n",
              "      <td>1</td>\n",
              "      <td>0</td>\n",
              "      <td>1</td>\n",
              "      <td>42085.58</td>\n",
              "      <td>1</td>\n",
              "    </tr>\n",
              "    <tr>\n",
              "      <th>9998</th>\n",
              "      <td>9999</td>\n",
              "      <td>15682355</td>\n",
              "      <td>Sabbatini</td>\n",
              "      <td>772</td>\n",
              "      <td>Germany</td>\n",
              "      <td>Male</td>\n",
              "      <td>42</td>\n",
              "      <td>3</td>\n",
              "      <td>75075.31</td>\n",
              "      <td>2</td>\n",
              "      <td>1</td>\n",
              "      <td>0</td>\n",
              "      <td>92888.52</td>\n",
              "      <td>1</td>\n",
              "    </tr>\n",
              "    <tr>\n",
              "      <th>9999</th>\n",
              "      <td>10000</td>\n",
              "      <td>15628319</td>\n",
              "      <td>Walker</td>\n",
              "      <td>792</td>\n",
              "      <td>France</td>\n",
              "      <td>Female</td>\n",
              "      <td>28</td>\n",
              "      <td>4</td>\n",
              "      <td>130142.79</td>\n",
              "      <td>1</td>\n",
              "      <td>1</td>\n",
              "      <td>0</td>\n",
              "      <td>38190.78</td>\n",
              "      <td>0</td>\n",
              "    </tr>\n",
              "  </tbody>\n",
              "</table>\n",
              "<p>10000 rows × 14 columns</p>\n",
              "</div>"
            ],
            "text/plain": [
              "      RowNumber  CustomerId    Surname  ...  IsActiveMember EstimatedSalary Exited\n",
              "0             1    15634602   Hargrave  ...               1       101348.88      1\n",
              "1             2    15647311       Hill  ...               1       112542.58      0\n",
              "2             3    15619304       Onio  ...               0       113931.57      1\n",
              "3             4    15701354       Boni  ...               0        93826.63      0\n",
              "4             5    15737888   Mitchell  ...               1        79084.10      0\n",
              "...         ...         ...        ...  ...             ...             ...    ...\n",
              "9995       9996    15606229   Obijiaku  ...               0        96270.64      0\n",
              "9996       9997    15569892  Johnstone  ...               1       101699.77      0\n",
              "9997       9998    15584532        Liu  ...               1        42085.58      1\n",
              "9998       9999    15682355  Sabbatini  ...               0        92888.52      1\n",
              "9999      10000    15628319     Walker  ...               0        38190.78      0\n",
              "\n",
              "[10000 rows x 14 columns]"
            ]
          },
          "metadata": {},
          "execution_count": 10
        }
      ]
    },
    {
      "cell_type": "code",
      "metadata": {
        "id": "aDujHqqjMNBs"
      },
      "source": [
        "X=dataset.iloc[:,3:-1].values\n",
        "y=dataset.iloc[:,-1].values"
      ],
      "execution_count": 8,
      "outputs": []
    },
    {
      "cell_type": "code",
      "metadata": {
        "colab": {
          "base_uri": "https://localhost:8080/"
        },
        "id": "GMqAMHvsMaZu",
        "outputId": "a692e74c-d701-44e7-c812-0458446536ac"
      },
      "source": [
        "X"
      ],
      "execution_count": 9,
      "outputs": [
        {
          "output_type": "execute_result",
          "data": {
            "text/plain": [
              "array([[619, 'France', 'Female', ..., 1, 1, 101348.88],\n",
              "       [608, 'Spain', 'Female', ..., 0, 1, 112542.58],\n",
              "       [502, 'France', 'Female', ..., 1, 0, 113931.57],\n",
              "       ...,\n",
              "       [709, 'France', 'Female', ..., 0, 1, 42085.58],\n",
              "       [772, 'Germany', 'Male', ..., 1, 0, 92888.52],\n",
              "       [792, 'France', 'Female', ..., 1, 0, 38190.78]], dtype=object)"
            ]
          },
          "metadata": {},
          "execution_count": 9
        }
      ]
    },
    {
      "cell_type": "code",
      "metadata": {
        "colab": {
          "base_uri": "https://localhost:8080/"
        },
        "id": "aHOMvOG3MtCq",
        "outputId": "86adedfd-4716-4207-9a81-f41c99137399"
      },
      "source": [
        "y"
      ],
      "execution_count": 11,
      "outputs": [
        {
          "output_type": "execute_result",
          "data": {
            "text/plain": [
              "array([1, 0, 1, ..., 1, 1, 0])"
            ]
          },
          "metadata": {},
          "execution_count": 11
        }
      ]
    },
    {
      "cell_type": "markdown",
      "metadata": {
        "id": "xtqDvXNgMv9q"
      },
      "source": [
        "# **Encoding Categorical Data**"
      ]
    },
    {
      "cell_type": "markdown",
      "metadata": {
        "id": "-C2csKaGN0Ay"
      },
      "source": [
        "# Label Encoding The \"Gender\" Column"
      ]
    },
    {
      "cell_type": "code",
      "metadata": {
        "id": "JbgKvU7DM1hG"
      },
      "source": [
        "from sklearn.preprocessing import LabelEncoder\n",
        "le=LabelEncoder()\n",
        "X[:,2]=le.fit_transform(X[:,2])"
      ],
      "execution_count": 12,
      "outputs": []
    },
    {
      "cell_type": "code",
      "metadata": {
        "colab": {
          "base_uri": "https://localhost:8080/"
        },
        "id": "EnI0PFBMNu6i",
        "outputId": "fb307409-7fcb-4669-980c-1a508d237519"
      },
      "source": [
        "X"
      ],
      "execution_count": 13,
      "outputs": [
        {
          "output_type": "execute_result",
          "data": {
            "text/plain": [
              "array([[619, 'France', 0, ..., 1, 1, 101348.88],\n",
              "       [608, 'Spain', 0, ..., 0, 1, 112542.58],\n",
              "       [502, 'France', 0, ..., 1, 0, 113931.57],\n",
              "       ...,\n",
              "       [709, 'France', 0, ..., 0, 1, 42085.58],\n",
              "       [772, 'Germany', 1, ..., 1, 0, 92888.52],\n",
              "       [792, 'France', 0, ..., 1, 0, 38190.78]], dtype=object)"
            ]
          },
          "metadata": {},
          "execution_count": 13
        }
      ]
    },
    {
      "cell_type": "markdown",
      "metadata": {
        "id": "enIQ0Hc9N8kY"
      },
      "source": [
        "# One Hot Encoding The \"Geography\" Column"
      ]
    },
    {
      "cell_type": "code",
      "metadata": {
        "id": "7LveLQnVOE1w"
      },
      "source": [
        "from sklearn.compose import ColumnTransformer\n",
        "from sklearn.preprocessing import OneHotEncoder\n",
        "ct=ColumnTransformer(transformers=[(\"encoder\",OneHotEncoder(),[1])],remainder=\"passthrough\")\n",
        "X=np.array(ct.fit_transform(X))"
      ],
      "execution_count": 14,
      "outputs": []
    },
    {
      "cell_type": "code",
      "metadata": {
        "colab": {
          "base_uri": "https://localhost:8080/"
        },
        "id": "Vg8S2XgyOifm",
        "outputId": "f2980c12-6639-4913-91c1-f9d920235991"
      },
      "source": [
        "X"
      ],
      "execution_count": 15,
      "outputs": [
        {
          "output_type": "execute_result",
          "data": {
            "text/plain": [
              "array([[1.0, 0.0, 0.0, ..., 1, 1, 101348.88],\n",
              "       [0.0, 0.0, 1.0, ..., 0, 1, 112542.58],\n",
              "       [1.0, 0.0, 0.0, ..., 1, 0, 113931.57],\n",
              "       ...,\n",
              "       [1.0, 0.0, 0.0, ..., 0, 1, 42085.58],\n",
              "       [0.0, 1.0, 0.0, ..., 1, 0, 92888.52],\n",
              "       [1.0, 0.0, 0.0, ..., 1, 0, 38190.78]], dtype=object)"
            ]
          },
          "metadata": {},
          "execution_count": 15
        }
      ]
    },
    {
      "cell_type": "markdown",
      "metadata": {
        "id": "GG8IzyzkPP66"
      },
      "source": [
        "# Splitting the dataset into the training and Test set"
      ]
    },
    {
      "cell_type": "code",
      "metadata": {
        "id": "SzY01f9oPW-4"
      },
      "source": [
        "from sklearn.model_selection import train_test_split\n",
        "X_train,X_test,y_train,y_test=train_test_split(X,y,test_size=0.2,random_state=0)"
      ],
      "execution_count": 16,
      "outputs": []
    },
    {
      "cell_type": "markdown",
      "metadata": {
        "id": "izSoIl-LP0-_"
      },
      "source": [
        "# **Feature Scaling**"
      ]
    },
    {
      "cell_type": "code",
      "metadata": {
        "id": "GLMSNWRvP4Ym"
      },
      "source": [
        "from sklearn.preprocessing import StandardScaler\n",
        "sc=StandardScaler()\n",
        "X_train=sc.fit_transform(X_train)\n",
        "X_test=sc.transform(X_test)"
      ],
      "execution_count": 17,
      "outputs": []
    },
    {
      "cell_type": "markdown",
      "metadata": {
        "id": "ZF4mbQjeSjtq"
      },
      "source": [
        "# **Building The ANN\n",
        "# Initializing the ANN** "
      ]
    },
    {
      "cell_type": "code",
      "metadata": {
        "id": "pcHYaGxqSspM"
      },
      "source": [
        "ann=tf.keras.models.Sequential()"
      ],
      "execution_count": 19,
      "outputs": []
    },
    {
      "cell_type": "markdown",
      "metadata": {
        "id": "CxL1WDj8TD9u"
      },
      "source": [
        "# **Adding The Input layer and The First Hidden Layer**"
      ]
    },
    {
      "cell_type": "code",
      "metadata": {
        "id": "H742J5D_TVdS"
      },
      "source": [
        "ann.add(tf.keras.layers.Dense(units=6,activation=\"relu\"))"
      ],
      "execution_count": null,
      "outputs": []
    },
    {
      "cell_type": "markdown",
      "metadata": {
        "id": "sBdTS8cCTonC"
      },
      "source": [
        "# **Adding The Input layer and The Second Hidden Layer**"
      ]
    },
    {
      "cell_type": "code",
      "metadata": {
        "id": "nstMih5xTn8o"
      },
      "source": [
        "ann.add(tf.keras.layers.Dense(units=6,activation=\"relu\"))"
      ],
      "execution_count": null,
      "outputs": []
    },
    {
      "cell_type": "markdown",
      "metadata": {
        "id": "1oLRcf2NUEPD"
      },
      "source": [
        "# **Adding The Output Layer**"
      ]
    },
    {
      "cell_type": "code",
      "metadata": {
        "id": "GW7hO4fnUI_b"
      },
      "source": [
        "ann.add(tf.keras.layers.Dense(units=1,activation=\"sigmoid\"))"
      ],
      "execution_count": null,
      "outputs": []
    },
    {
      "cell_type": "markdown",
      "metadata": {
        "id": "ECUC7NuLUqvs"
      },
      "source": [
        "# **Training The ANN **"
      ]
    },
    {
      "cell_type": "code",
      "metadata": {
        "id": "Vsih0-zKUtA4"
      },
      "source": [
        "ann.compile(optimizer=\"adam\",loss=\"binary_crossentropy\",metrics=[\"accuracy\"])"
      ],
      "execution_count": 21,
      "outputs": []
    },
    {
      "cell_type": "markdown",
      "metadata": {
        "id": "8QPffUApU_Fz"
      },
      "source": [
        "# Training The ANN ON The Traing set"
      ]
    },
    {
      "cell_type": "code",
      "metadata": {
        "colab": {
          "base_uri": "https://localhost:8080/"
        },
        "id": "QggUXyKaVFXs",
        "outputId": "7f6f01bf-91a9-4a85-a505-c76b981b06f0"
      },
      "source": [
        "ann.fit(X_train,y_train,batch_size=32,epochs=100)"
      ],
      "execution_count": 22,
      "outputs": [
        {
          "output_type": "stream",
          "name": "stdout",
          "text": [
            "Epoch 1/100\n",
            "250/250 [==============================] - 1s 1ms/step - loss: 3.6138 - accuracy: 0.2260\n",
            "Epoch 2/100\n",
            "250/250 [==============================] - 0s 1ms/step - loss: 3.6138 - accuracy: 0.2260\n",
            "Epoch 3/100\n",
            "250/250 [==============================] - 0s 990us/step - loss: 3.6138 - accuracy: 0.2260\n",
            "Epoch 4/100\n",
            "250/250 [==============================] - 0s 991us/step - loss: 3.6138 - accuracy: 0.2260\n",
            "Epoch 5/100\n",
            "250/250 [==============================] - 0s 1ms/step - loss: 3.6138 - accuracy: 0.2260\n",
            "Epoch 6/100\n",
            "250/250 [==============================] - 0s 1ms/step - loss: 3.6138 - accuracy: 0.2260\n",
            "Epoch 7/100\n",
            "250/250 [==============================] - 0s 1ms/step - loss: 3.6138 - accuracy: 0.2260\n",
            "Epoch 8/100\n",
            "250/250 [==============================] - 0s 1ms/step - loss: 3.6138 - accuracy: 0.2260\n",
            "Epoch 9/100\n",
            "250/250 [==============================] - 0s 1ms/step - loss: 3.6138 - accuracy: 0.2260\n",
            "Epoch 10/100\n",
            "250/250 [==============================] - 0s 1ms/step - loss: 3.6138 - accuracy: 0.2260\n",
            "Epoch 11/100\n",
            "250/250 [==============================] - 0s 977us/step - loss: 3.6138 - accuracy: 0.2260\n",
            "Epoch 12/100\n",
            "250/250 [==============================] - 0s 1ms/step - loss: 3.6138 - accuracy: 0.2260\n",
            "Epoch 13/100\n",
            "250/250 [==============================] - 0s 973us/step - loss: 3.6138 - accuracy: 0.2260\n",
            "Epoch 14/100\n",
            "250/250 [==============================] - 0s 1ms/step - loss: 3.6138 - accuracy: 0.2260\n",
            "Epoch 15/100\n",
            "250/250 [==============================] - 0s 1ms/step - loss: 3.6138 - accuracy: 0.2260\n",
            "Epoch 16/100\n",
            "250/250 [==============================] - 0s 995us/step - loss: 3.6138 - accuracy: 0.2260\n",
            "Epoch 17/100\n",
            "250/250 [==============================] - 0s 1ms/step - loss: 3.6138 - accuracy: 0.2260\n",
            "Epoch 18/100\n",
            "250/250 [==============================] - 0s 990us/step - loss: 3.6138 - accuracy: 0.2260\n",
            "Epoch 19/100\n",
            "250/250 [==============================] - 0s 1ms/step - loss: 3.6138 - accuracy: 0.2260\n",
            "Epoch 20/100\n",
            "250/250 [==============================] - 0s 1ms/step - loss: 3.6138 - accuracy: 0.2260\n",
            "Epoch 21/100\n",
            "250/250 [==============================] - 0s 1ms/step - loss: 3.6138 - accuracy: 0.2260\n",
            "Epoch 22/100\n",
            "250/250 [==============================] - 0s 995us/step - loss: 3.6138 - accuracy: 0.2260\n",
            "Epoch 23/100\n",
            "250/250 [==============================] - 0s 1ms/step - loss: 3.6138 - accuracy: 0.2260\n",
            "Epoch 24/100\n",
            "250/250 [==============================] - 0s 997us/step - loss: 3.6138 - accuracy: 0.2260\n",
            "Epoch 25/100\n",
            "250/250 [==============================] - 0s 1ms/step - loss: 3.6138 - accuracy: 0.2260\n",
            "Epoch 26/100\n",
            "250/250 [==============================] - 0s 1ms/step - loss: 3.6138 - accuracy: 0.2260\n",
            "Epoch 27/100\n",
            "250/250 [==============================] - 0s 971us/step - loss: 3.6138 - accuracy: 0.2260\n",
            "Epoch 28/100\n",
            "250/250 [==============================] - 0s 982us/step - loss: 3.6138 - accuracy: 0.2260\n",
            "Epoch 29/100\n",
            "250/250 [==============================] - 0s 1ms/step - loss: 3.6138 - accuracy: 0.2260\n",
            "Epoch 30/100\n",
            "250/250 [==============================] - 0s 984us/step - loss: 3.6138 - accuracy: 0.2260\n",
            "Epoch 31/100\n",
            "250/250 [==============================] - 0s 1ms/step - loss: 3.6138 - accuracy: 0.2260\n",
            "Epoch 32/100\n",
            "250/250 [==============================] - 0s 998us/step - loss: 3.6138 - accuracy: 0.2260\n",
            "Epoch 33/100\n",
            "250/250 [==============================] - 0s 1ms/step - loss: 3.6138 - accuracy: 0.2260\n",
            "Epoch 34/100\n",
            "250/250 [==============================] - 0s 1ms/step - loss: 3.6138 - accuracy: 0.2260\n",
            "Epoch 35/100\n",
            "250/250 [==============================] - 0s 1ms/step - loss: 3.6138 - accuracy: 0.2260\n",
            "Epoch 36/100\n",
            "250/250 [==============================] - 0s 1ms/step - loss: 3.6138 - accuracy: 0.2260\n",
            "Epoch 37/100\n",
            "250/250 [==============================] - 0s 1ms/step - loss: 3.6138 - accuracy: 0.2260\n",
            "Epoch 38/100\n",
            "250/250 [==============================] - 0s 982us/step - loss: 3.6138 - accuracy: 0.2260\n",
            "Epoch 39/100\n",
            "250/250 [==============================] - 0s 1ms/step - loss: 3.6138 - accuracy: 0.2260\n",
            "Epoch 40/100\n",
            "250/250 [==============================] - 0s 993us/step - loss: 3.6138 - accuracy: 0.2260\n",
            "Epoch 41/100\n",
            "250/250 [==============================] - 0s 1ms/step - loss: 3.6138 - accuracy: 0.2260\n",
            "Epoch 42/100\n",
            "250/250 [==============================] - 0s 988us/step - loss: 3.6138 - accuracy: 0.2260\n",
            "Epoch 43/100\n",
            "250/250 [==============================] - 0s 1ms/step - loss: 3.6138 - accuracy: 0.2260\n",
            "Epoch 44/100\n",
            "250/250 [==============================] - 0s 1ms/step - loss: 3.6138 - accuracy: 0.2260\n",
            "Epoch 45/100\n",
            "250/250 [==============================] - 0s 1ms/step - loss: 3.6138 - accuracy: 0.2260\n",
            "Epoch 46/100\n",
            "250/250 [==============================] - 0s 1ms/step - loss: 3.6138 - accuracy: 0.2260\n",
            "Epoch 47/100\n",
            "250/250 [==============================] - 0s 1000us/step - loss: 3.6138 - accuracy: 0.2260\n",
            "Epoch 48/100\n",
            "250/250 [==============================] - 0s 999us/step - loss: 3.6138 - accuracy: 0.2260\n",
            "Epoch 49/100\n",
            "250/250 [==============================] - 0s 1ms/step - loss: 3.6138 - accuracy: 0.2260\n",
            "Epoch 50/100\n",
            "250/250 [==============================] - 0s 964us/step - loss: 3.6138 - accuracy: 0.2260\n",
            "Epoch 51/100\n",
            "250/250 [==============================] - 0s 1ms/step - loss: 3.6138 - accuracy: 0.2260\n",
            "Epoch 52/100\n",
            "250/250 [==============================] - 0s 1ms/step - loss: 3.6138 - accuracy: 0.2260\n",
            "Epoch 53/100\n",
            "250/250 [==============================] - 0s 994us/step - loss: 3.6138 - accuracy: 0.2260\n",
            "Epoch 54/100\n",
            "250/250 [==============================] - 0s 1ms/step - loss: 3.6138 - accuracy: 0.2260\n",
            "Epoch 55/100\n",
            "250/250 [==============================] - 0s 1ms/step - loss: 3.6138 - accuracy: 0.2260\n",
            "Epoch 56/100\n",
            "250/250 [==============================] - 0s 1ms/step - loss: 3.6138 - accuracy: 0.2260\n",
            "Epoch 57/100\n",
            "250/250 [==============================] - 0s 1ms/step - loss: 3.6138 - accuracy: 0.2260\n",
            "Epoch 58/100\n",
            "250/250 [==============================] - 0s 1ms/step - loss: 3.6138 - accuracy: 0.2260\n",
            "Epoch 59/100\n",
            "250/250 [==============================] - 0s 1ms/step - loss: 3.6138 - accuracy: 0.2260\n",
            "Epoch 60/100\n",
            "250/250 [==============================] - 0s 1ms/step - loss: 3.6138 - accuracy: 0.2260\n",
            "Epoch 61/100\n",
            "250/250 [==============================] - 0s 1ms/step - loss: 3.6138 - accuracy: 0.2260\n",
            "Epoch 62/100\n",
            "250/250 [==============================] - 0s 1ms/step - loss: 3.6138 - accuracy: 0.2260\n",
            "Epoch 63/100\n",
            "250/250 [==============================] - 0s 1ms/step - loss: 3.6138 - accuracy: 0.2260\n",
            "Epoch 64/100\n",
            "250/250 [==============================] - 0s 1ms/step - loss: 3.6138 - accuracy: 0.2260\n",
            "Epoch 65/100\n",
            "250/250 [==============================] - 0s 1ms/step - loss: 3.6138 - accuracy: 0.2260\n",
            "Epoch 66/100\n",
            "250/250 [==============================] - 0s 1ms/step - loss: 3.6138 - accuracy: 0.2260\n",
            "Epoch 67/100\n",
            "250/250 [==============================] - 0s 1ms/step - loss: 3.6138 - accuracy: 0.2260\n",
            "Epoch 68/100\n",
            "250/250 [==============================] - 0s 1ms/step - loss: 3.6138 - accuracy: 0.2260\n",
            "Epoch 69/100\n",
            "250/250 [==============================] - 0s 1ms/step - loss: 3.6138 - accuracy: 0.2260\n",
            "Epoch 70/100\n",
            "250/250 [==============================] - 0s 1ms/step - loss: 3.6138 - accuracy: 0.2260\n",
            "Epoch 71/100\n",
            "250/250 [==============================] - 0s 1ms/step - loss: 3.6138 - accuracy: 0.2260\n",
            "Epoch 72/100\n",
            "250/250 [==============================] - 0s 1ms/step - loss: 3.6138 - accuracy: 0.2260\n",
            "Epoch 73/100\n",
            "250/250 [==============================] - 0s 1ms/step - loss: 3.6138 - accuracy: 0.2260\n",
            "Epoch 74/100\n",
            "250/250 [==============================] - 0s 1ms/step - loss: 3.6138 - accuracy: 0.2260\n",
            "Epoch 75/100\n",
            "250/250 [==============================] - 0s 1ms/step - loss: 3.6138 - accuracy: 0.2260\n",
            "Epoch 76/100\n",
            "250/250 [==============================] - 0s 1ms/step - loss: 3.6138 - accuracy: 0.2260\n",
            "Epoch 77/100\n",
            "250/250 [==============================] - 0s 1ms/step - loss: 3.6138 - accuracy: 0.2260\n",
            "Epoch 78/100\n",
            "250/250 [==============================] - 0s 1ms/step - loss: 3.6138 - accuracy: 0.2260\n",
            "Epoch 79/100\n",
            "250/250 [==============================] - 0s 1ms/step - loss: 3.6138 - accuracy: 0.2260\n",
            "Epoch 80/100\n",
            "250/250 [==============================] - 0s 1ms/step - loss: 3.6138 - accuracy: 0.2260\n",
            "Epoch 81/100\n",
            "250/250 [==============================] - 0s 1ms/step - loss: 3.6138 - accuracy: 0.2260\n",
            "Epoch 82/100\n",
            "250/250 [==============================] - 0s 1ms/step - loss: 3.6138 - accuracy: 0.2260\n",
            "Epoch 83/100\n",
            "250/250 [==============================] - 0s 1ms/step - loss: 3.6138 - accuracy: 0.2260\n",
            "Epoch 84/100\n",
            "250/250 [==============================] - 0s 1ms/step - loss: 3.6138 - accuracy: 0.2260\n",
            "Epoch 85/100\n",
            "250/250 [==============================] - 0s 1ms/step - loss: 3.6138 - accuracy: 0.2260\n",
            "Epoch 86/100\n",
            "250/250 [==============================] - 0s 1ms/step - loss: 3.6138 - accuracy: 0.2260\n",
            "Epoch 87/100\n",
            "250/250 [==============================] - 0s 1ms/step - loss: 3.6138 - accuracy: 0.2260\n",
            "Epoch 88/100\n",
            "250/250 [==============================] - 0s 1ms/step - loss: 3.6138 - accuracy: 0.2260\n",
            "Epoch 89/100\n",
            "250/250 [==============================] - 0s 1ms/step - loss: 3.6138 - accuracy: 0.2260\n",
            "Epoch 90/100\n",
            "250/250 [==============================] - 0s 1ms/step - loss: 3.6138 - accuracy: 0.2260\n",
            "Epoch 91/100\n",
            "250/250 [==============================] - 0s 999us/step - loss: 3.6138 - accuracy: 0.2260\n",
            "Epoch 92/100\n",
            "250/250 [==============================] - 0s 1ms/step - loss: 3.6138 - accuracy: 0.2260\n",
            "Epoch 93/100\n",
            "250/250 [==============================] - 0s 1ms/step - loss: 3.6138 - accuracy: 0.2260\n",
            "Epoch 94/100\n",
            "250/250 [==============================] - 0s 1ms/step - loss: 3.6138 - accuracy: 0.2260\n",
            "Epoch 95/100\n",
            "250/250 [==============================] - 0s 1ms/step - loss: 3.6138 - accuracy: 0.2260\n",
            "Epoch 96/100\n",
            "250/250 [==============================] - 0s 1ms/step - loss: 3.6138 - accuracy: 0.2260\n",
            "Epoch 97/100\n",
            "250/250 [==============================] - 0s 1ms/step - loss: 3.6138 - accuracy: 0.2260\n",
            "Epoch 98/100\n",
            "250/250 [==============================] - 0s 1ms/step - loss: 3.6138 - accuracy: 0.2260\n",
            "Epoch 99/100\n",
            "250/250 [==============================] - 0s 1ms/step - loss: 3.6138 - accuracy: 0.2260\n",
            "Epoch 100/100\n",
            "250/250 [==============================] - 0s 972us/step - loss: 3.6138 - accuracy: 0.2260\n"
          ]
        },
        {
          "output_type": "execute_result",
          "data": {
            "text/plain": [
              "<keras.callbacks.History at 0x7fe13b2af710>"
            ]
          },
          "metadata": {},
          "execution_count": 22
        }
      ]
    },
    {
      "cell_type": "code",
      "metadata": {
        "colab": {
          "base_uri": "https://localhost:8080/"
        },
        "id": "bPI8XMzTYtOc",
        "outputId": "ef7ffe04-5337-4920-de63-5be73c341c3c"
      },
      "source": [
        "X_test"
      ],
      "execution_count": 34,
      "outputs": [
        {
          "output_type": "execute_result",
          "data": {
            "text/plain": [
              "array([[-1.01460667,  1.75486502, -0.57369368, ...,  0.64259497,\n",
              "         0.9687384 ,  1.61085707],\n",
              "       [ 0.98560362, -0.5698444 , -0.57369368, ...,  0.64259497,\n",
              "        -1.03227043,  0.49587037],\n",
              "       [-1.01460667, -0.5698444 ,  1.74309049, ...,  0.64259497,\n",
              "         0.9687384 , -0.42478674],\n",
              "       ...,\n",
              "       [-1.01460667, -0.5698444 ,  1.74309049, ...,  0.64259497,\n",
              "        -1.03227043,  0.71888467],\n",
              "       [-1.01460667,  1.75486502, -0.57369368, ...,  0.64259497,\n",
              "         0.9687384 , -1.54507805],\n",
              "       [-1.01460667,  1.75486502, -0.57369368, ...,  0.64259497,\n",
              "        -1.03227043,  1.61255917]])"
            ]
          },
          "metadata": {},
          "execution_count": 34
        }
      ]
    },
    {
      "cell_type": "markdown",
      "metadata": {
        "id": "7KbPHoLkVjYG"
      },
      "source": [
        "# Predicting The Test Set Results"
      ]
    },
    {
      "cell_type": "code",
      "metadata": {
        "id": "kNBTU6F6VhZL"
      },
      "source": [
        "y_pred=ann.predict(X_test)\n",
        "y_pred=(y_pred>0.5)\n",
        "# print(np.concatenate((y_pred.reshape(len(y_pred),1),y_test.reshape(len(y_test),1)),1))"
      ],
      "execution_count": null,
      "outputs": []
    },
    {
      "cell_type": "code",
      "metadata": {
        "colab": {
          "base_uri": "https://localhost:8080/"
        },
        "id": "t3j3-MKRYJmj",
        "outputId": "778e4a10-9bdc-4b34-e6c6-b385ce4f5cb5"
      },
      "source": [
        "y_pred"
      ],
      "execution_count": 36,
      "outputs": [
        {
          "output_type": "execute_result",
          "data": {
            "text/plain": [
              "array([[False,  True, False, ...,  True,  True,  True],\n",
              "       [ True, False, False, ...,  True, False, False],\n",
              "       [False, False,  True, ...,  True,  True, False],\n",
              "       ...,\n",
              "       [False, False,  True, ...,  True, False,  True],\n",
              "       [False,  True, False, ...,  True,  True, False],\n",
              "       [False,  True, False, ...,  True, False,  True]])"
            ]
          },
          "metadata": {},
          "execution_count": 36
        }
      ]
    },
    {
      "cell_type": "markdown",
      "metadata": {
        "id": "HL6rtqgWYYkK"
      },
      "source": [
        "# **Confusion Matrix**"
      ]
    },
    {
      "cell_type": "code",
      "metadata": {
        "id": "s0NzTqYSZ_X-"
      },
      "source": [
        "from sklearn.metrics import confusion_matrix,accuracy_score\n",
        "cm=confusion_matrix(y_test,y_pred)\n",
        "print(cm)\n",
        "accuracy_score(y_test,y_pred)"
      ],
      "execution_count": null,
      "outputs": []
    }
  ]
}